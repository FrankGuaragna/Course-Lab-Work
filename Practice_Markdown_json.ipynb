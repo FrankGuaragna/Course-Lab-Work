{
  "nbformat": 4,
  "nbformat_minor": 0,
  "metadata": {
    "kernelspec": {
      "display_name": "Python 3",
      "language": "python",
      "name": "python3"
    },
    "language_info": {
      "codemirror_mode": {
        "name": "ipython",
        "version": 3
      },
      "file_extension": ".py",
      "mimetype": "text/x-python",
      "name": "python",
      "nbconvert_exporter": "python",
      "pygments_lexer": "ipython3",
      "version": "3.7.6"
    },
    "colab": {
      "name": "Practice-Markdown.json",
      "provenance": [],
      "include_colab_link": true
    }
  },
  "cells": [
    {
      "cell_type": "markdown",
      "metadata": {
        "id": "view-in-github",
        "colab_type": "text"
      },
      "source": [
        "<a href=\"https://colab.research.google.com/github/FrankGuaragna/Course-Lab-Work/blob/main/Practice_Markdown_json.ipynb\" target=\"_parent\"><img src=\"https://colab.research.google.com/assets/colab-badge.svg\" alt=\"Open In Colab\"/></a>"
      ]
    },
    {
      "cell_type": "markdown",
      "metadata": {
        "id": "f3y4EHEF76Yc"
      },
      "source": [
        "## Practice Markdown"
      ]
    },
    {
      "cell_type": "code",
      "metadata": {
        "id": "dzaMRjqw76Yz",
        "outputId": "60c98a91-549b-49c5-d92f-cb1be49d6580"
      },
      "source": [
        "print(\"hello world\")"
      ],
      "execution_count": null,
      "outputs": [
        {
          "output_type": "stream",
          "text": [
            "hello world\n"
          ],
          "name": "stdout"
        }
      ]
    },
    {
      "cell_type": "markdown",
      "metadata": {
        "id": "eGY4qdYv76Y3"
      },
      "source": [
        "This notebook lets you experiment with producing repeatable technical documentation.  Use this notebook to do the following actions:\n",
        "\n",
        "* Create a code cell and print a Python Hello World statement:  `print(\"hello world\")`\n",
        "* Create a Markdown Cell and add a Title using `#` and then a statement using plain text.  You can looks at the source code for this cell to get an idea of how to use Markdown.\n",
        "* Take some ideas from the [Master Markdown Github Guide](https://guides.github.com/features/mastering-markdown/) and implement them here.\n",
        "* Download this notebook as a `.ipynb` file and check into a Github Project.  You can [see an example here](https://github.com/noahgift/duke-coursera-ccf-lab1/blob/main/Practice-Markdown.ipynb).\n",
        "* Open your notebook in Google Colab and save it into the same Github Project.  You can [see an example here](https://github.com/noahgift/duke-coursera-ccf-lab1/blob/main/Practice_Markdown_with_colab.ipynb).\n"
      ]
    },
    {
      "cell_type": "markdown",
      "metadata": {
        "id": "K7l-7uYl76Y7"
      },
      "source": [
        "# This is my Lab!\n",
        "\n",
        "* This is step 1\n",
        "* This is step 2\n",
        "\n",
        "## Try this\n"
      ]
    },
    {
      "cell_type": "markdown",
      "metadata": {
        "id": "lxOirT3z76Y9"
      },
      "source": [
        "![GitHub Logo](/images/logo.png)\n",
        "Format: ![Alt Text](url)\n"
      ]
    },
    {
      "cell_type": "markdown",
      "metadata": {
        "id": "Qfwfb2rY76Y-"
      },
      "source": [
        "http://github.com - automatic!\n",
        "[GitHub](http://github.com)\n",
        "\n"
      ]
    },
    {
      "cell_type": "code",
      "metadata": {
        "id": "wvey6yGi76Y_"
      },
      "source": [
        ""
      ],
      "execution_count": null,
      "outputs": []
    }
  ]
}